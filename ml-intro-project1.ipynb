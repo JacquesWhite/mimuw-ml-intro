{
 "cells": [
  {
   "cell_type": "markdown",
   "metadata": {},
   "source": [
    "# WUM 2024, projekt"
   ]
  },
  {
   "cell_type": "markdown",
   "metadata": {},
   "source": [
    "Celem zadania jest statystyczna analiza danych znajdujących się w pliku dane_projekt1.csv.\n",
    "Dane: Są to dane symulowane; opisują fragment wyników badania ankietowego dotyczącego zwyczajów\n",
    "konsumenckich mieszkańców fikcyjnej krainy Bajtocji, przeprowadzonego na próbie reprezentatywnej*. Dane\n",
    "mogą zawierać losowe błędy. Poniżej objaśnienie nazw zmiennych zastosowanych w badaniu:\n",
    "- *id* – identyfikator obserwacji, nie zawiera żadnej dodatkowej informacji\n",
    "- *waga* – waga respondenta (w kg)\n",
    "- *wzrost* – wzrost respondenta (w cm)\n",
    "- *plec* – płeć w dokumencie tożsamości respondenta (1 – “kobieta”, 2 – “mężczyzna”)\n",
    "- *dzieci* – liczba dzieci na utrzymaniu respondenta (w osobach)\n",
    "- *wiek* – wiek respondenta (w latach)\n",
    "- *dochod* – deklarowany dochód respondenta w badanym miesiącu (w bajtalarach)\n",
    "- *oszczednosci* – deklarowane oszczędności respondenta w badanym miesiącu (w bajtalarach, ujemne wartości oznaczają, że wydatki ogółem przekroczyły dochód)\n",
    "- *jednoos* – status gospodarstwa domowego (1 – “gospodarstwo jednoosobowe”, 0 – “gospodarstwo wieloosobowe”)\n",
    "- *miejsce* – wielkość miejscowości, w której mieszka respondent (1 – “do 10 000 mieszkańców”, 2 – “od 10 000 mieszkańców do 100 000 mieszkańców”, 3 – “powyżej 100 000 mieszkańców”)\n",
    "- *wydatki_zyw* – deklarowane wydatki na żywność respondenta w badanym miesiącu (w bajtalarach).\n",
    "Wynikiem ma być raport w notatniku jupyter (.ipynb). Raport i komentarze muszą być wystarczające\n",
    "do zrozumienia i odtworzenia podejmowanych przez Państwa kroków bez konieczności czytania\n",
    "Państwa kodów. Każde podjęte działanie modyfikujące w istotny sposób bazę (np. usuwanie rekordów,\n",
    "modyfikacja i wprowadzanie nowych zmiennych) musi być uzasadnione i opisane. W każdym zadaniu można\n",
    "skorzystać z gotowych implementacji. W moodle przedmiotu pojawi się zadanie – miejsce do przesłania\n",
    "raportu. Raport oceniany będzie przez prowadzącego Państwa grupę.\n",
    "Termin oddania: 8 maja 2024 23:59. Proszę zapoznać się z polityką dotyczącą spóźnień, opisaną w moodle\n",
    "przedmiotu.\n",
    "Suma punktów do zdobycia: 30\n",
    "\n",
    "> Próba reprezentatywna to próba, której struktura ze względu na badane cechy (zmienne) jest zbliżona do struktury populacji statystycznej, z której pochodzi."
   ]
  },
  {
   "cell_type": "markdown",
   "metadata": {},
   "source": [
    "## Zadanie 1"
   ]
  },
  {
   "cell_type": "markdown",
   "metadata": {},
   "source": [
    "\n",
    "Wczytaj dane, obejrzyj je i podsumuj w dwóch-trzech zdaniach. Zadania pomocnicze:\n",
    "- Ile jest obserwacji? Przedyskutuj strukturę zbioru danych: ile jest zmiennych ilościowych, a ile jakościowych? Czy występują braki danych? (1pkt)\n",
    "- Przedstaw i skomentuj zasadne tabele częstości lub statystykę opisową dla zmiennych w zbiorze danych (zwróć uwagę na typ zmiennych). (1pkt)\n",
    "- Przedstaw i skomentuj (tam, gdzie zasadne) rozkłady zmiennych, w szczególności porównując je wizualnie z rozkładem normalnym (np. z wykorzystaniem histogramów, wykresów kwantyl-kwantyl, etc). (2pkt)"
   ]
  },
  {
   "cell_type": "markdown",
   "metadata": {},
   "source": [
    "## Zadanie 2"
   ]
  },
  {
   "cell_type": "markdown",
   "metadata": {},
   "source": [
    "Sprawdź, czy występują pomiędzy zmiennymi zależności. Policz i zaprezentuj na wykresie typu mapa ciepła (heatmap) zasadny współczynnik korelacji pomiędzy zmiennymi ilościowymi, a także zbadaj zależność zmiennych jakościowych. Skomentuj wyniki ze szczególnym uwzględnieniem kwestii istotności statystycznej. (3pkt)\n"
   ]
  },
  {
   "cell_type": "markdown",
   "metadata": {},
   "source": [
    "## Zadanie 3"
   ]
  },
  {
   "cell_type": "markdown",
   "metadata": {},
   "source": [
    "Podsumuj dane przynajmniej trzema różnymi wykresami (skomentuj każdy z wykresów). Podstawowy zestaw wykresów zawiera:\n",
    "• Wykresy rozrzutu (scatter-plot) dla wszystkich zmiennych ilościowych względem zmiennej wydatki_zyw.\n",
    "• Wykresy typu pudełkowy (boxplot) dla jednej wybranej zmiennej ilościowej w podziale na miejsce zamieszkania respondentów.\n",
    "• Wykres słupkowy skumulowany (stacked bar chart) dla płci respondenta i faktu, czy prowadzi jednoosobowe gospodarstwo domowe. (3pkt, każdy wykres z podstawowego zestawu wart 1pkt: 0,25 pkt za sam wykres, 0,75pkt za komentarz w kontekście analizy eksploracyjnej. Mile widziane dodatkowe wykresy wg własnej inwencji uzupełniające analizę eksploracyjną, np. słupkowe, liniowe, kołowe... – możliwe dodanie do 1 dodatkowego punktu przez osobę sprawdzającą za interesujące dodatkowe wizualizacje)\n"
   ]
  },
  {
   "cell_type": "markdown",
   "metadata": {},
   "source": [
    "## Zadanie 4"
   ]
  },
  {
   "cell_type": "markdown",
   "metadata": {},
   "source": [
    "Policz dwustronne przedziały ufności na poziomie ufności 1 − α = 0.99 dla zmiennej wiek dla\n",
    "następujących parametrów rozkładu:\n",
    "• średnia i odchylenie standardowe;\n",
    "• kwartyle 1, 2 i 3.\n",
    "Podaj wykorzystane założenia i skomentuj, czy wydają Ci się one uprawnione (2pkt: 0,25pkt za średnią,\n",
    "0,25pkt za wariancję, 0,75pkt za kwartyle, 0,75pkt za podanie i komentarz do przyjętych założeń)\n"
   ]
  },
  {
   "cell_type": "markdown",
   "metadata": {},
   "source": [
    "## Zadanie 5"
   ]
  },
  {
   "cell_type": "markdown",
   "metadata": {},
   "source": [
    "Socjologowie bajtoccy dzielą społeczeństwo Bajtocji według czterech klas zamożności:\n",
    "• klasa niższa (osiągany dochód poniżej 25 centylu rozkładu dochodów)\n",
    "• klasa średnia (osiągany dochód równy lub wyższy 25 centylowi i niższy niż 75 centyl rozkładu docho-\n",
    "dów)\n",
    "• klasa wyższa średnia (osiągany dochód równy lub wyższy 75 centylowi i niższy niż 90 centyl rozkładu\n",
    "dochodów)\n",
    "• klasa wyższa (osiągany dochód równy lub wyższy 90 centylowi rozkładu dochodów)\n",
    "Przedyskutuj i porównaj zróżnicowanie wydatków na żywność w wyżej wymienionych klasach zamożności\n",
    "(2pkt: 0,5pkt za przeprowadzenie podziału, 1pkt za obliczenie właściwej miary zróżnicowania, 0,5pkt. za\n",
    "komentarz i dyskusję wyników).\n",
    "2\n"
   ]
  },
  {
   "cell_type": "markdown",
   "metadata": {},
   "source": [
    "## Zadanie 6"
   ]
  },
  {
   "cell_type": "markdown",
   "metadata": {},
   "source": [
    "Odpowiedz na następujące pytania badawcze, przeprowadzając najlepiej nadające się do tego\n",
    "testy statystyczne na poziomie istotności α = 0, 01:\n",
    "• Czy kobiety cechują się wyższymi wartościami oszczędności niż mężczyzni?\n",
    "• Czy niższa proporcja wydatków na żywność względem dochodu jest skorelowana z wyższymi oszczęd-\n",
    "nościami?\n",
    "• Czy średnia waga kobiet w próbie jest wyższa niż 56 kg?\n",
    "oraz:\n",
    "• zweryfikuj dodatkową (sensowną) hipotezę o zgodności z konkretnym rozkładem parametrycznym dla\n",
    "wybranej zmiennej (np. \"zmienna A ma rozkład Poissona z parametrem 1\").\n",
    "Podaj wykorzystywane założenia i skomentuj czy wydają Ci się one uprawnione. Każdy test statystyczny po\n",
    "1 punkcie (w sumie 4pkt). Punktowane jest sformułowanie hipotezy zerowej oraz alternatywnej (0,25pkt),\n",
    "uzasadnienie/zasadność wybranego testu (0,25pkt), przeprowadzenie testu (0,25pkt) i podanie konkluzji\n",
    "testu (0,25pkt).\n"
   ]
  },
  {
   "cell_type": "markdown",
   "metadata": {},
   "source": [
    "## Zadanie 7"
   ]
  },
  {
   "cell_type": "markdown",
   "metadata": {},
   "source": [
    "Przeprowadź badanie wysokości wydatków na żywność z wykorzystaniem zmiennych z bazy.\n",
    "Przyjmij poziom istotności α = 0.01. W tym celu:\n",
    "• Oszacuj wstępny model zawierający wszystkie zmienne z oryginalnej bazy (poza id) oraz stałą, gdzie\n",
    "zmienna wydatki_zyw jest zmienną objaśnianą. Pamiętaj o rozkodowaniu zmiennych jakościowych.\n",
    "(0,5pkt)\n",
    "• Skomentuj R2, testy łącznej i indywidualnej istotności we wstępnym modelu. (1pkt)\n",
    "• Sprawdź, czy wstępny model spełnia założenia Klasycznego Modelu Regresji Liniowej (KMRL). Zwróć\n",
    "szczególną uwagę na kwestie liniowości formy funkcyjnej, homoskedastyczności i braku autokorelacji\n",
    "składnika losowego oraz rozkładu składnika losowego. (2pkt)\n",
    "• Sprawdź, czy we wstępnym modelu występuje problem niedokładnej współliniowości (multicollinearity )\n",
    "(0,5pkt)\n",
    "• Korzystając z analizy obserwacji odstających dla wstępnego modelu, sprawdź, czy baza zawiera błędy.\n",
    "Jeśli znajdziesz podejrzane obserwacje, zdecyduj i uzasadnij, co z nimi zrobisz. (1pkt)\n",
    "• Popraw model tak, aby spełniał jak najwięcej założeń KMRL. Opisz kroki podjęte do otrzymania\n",
    "“najlepszego” modelu (4pkt).\n",
    "Wskazówka: Rozważ różne formy funkcyjne oraz transformacje zmiennych.\n",
    "• Przedstaw ilościową interpretację wybranych dwóch indywidualnie istotnych współczynników w “naj-\n",
    "lepszym” modelu. Pamiętaj, że stałej nie interpretuje się. Zalecany wybór zmiennych niepoddanych\n",
    "transformacji. (1pkt)\n",
    "• Jakie są opisowe charakterystyki osób, które cechują wydatki na żywność należące do górnych 10%\n",
    "predykcji wydatków na żywność w Państwa “najlepszym” modelu? Sprawdź i przedyskutuj (2pkt).\n"
   ]
  }
 ],
 "metadata": {
  "kernelspec": {
   "display_name": "base",
   "language": "python",
   "name": "python3"
  },
  "language_info": {
   "codemirror_mode": {
    "name": "ipython",
    "version": 3
   },
   "file_extension": ".py",
   "mimetype": "text/x-python",
   "name": "python",
   "nbconvert_exporter": "python",
   "pygments_lexer": "ipython3",
   "version": "3.10.14"
  }
 },
 "nbformat": 4,
 "nbformat_minor": 2
}
